{
 "cells": [
  {
   "cell_type": "markdown",
   "metadata": {},
   "source": [
    "## Read & Learn for FUN\n",
    "\n",
    "I will keep updating my reading list...\n",
    "\n",
    "### Blog posts \n",
    "\n",
    "1. [Gender and verbs accross 100,000 stories](http://varianceexplained.org/r/tidytext-gender-plots/)\n",
    "2. [The Worst Thing That Can Happen Is We Make A Bad Song](https://fivethirtyeight.com/features/the-worst-thing-that-can-happen-is-we-make-a-bad-song/)\n",
    "\n",
    "### Deep Learning Tutorial\n",
    "1. [Deep Learning Book](http://www.deeplearningbook.org/)\n",
    "2. [TensorFlow Tutorial](https://github.com/Hvass-Labs/TensorFlow-Tutorials)\n",
    "3. [Recommending music on Spotify with deep learning](http://benanne.github.io/2014/08/05/spotify-cnns.html)\n",
    "\n",
    "### AWS & Terminal\n",
    "1. [MapReduce paper](https://static.googleusercontent.com/media/research.google.com/en//archive/mapreduce-osdi04.pdf)\n",
    "2. [Vim](https://stackoverflow.blog/2017/05/23/stack-overflow-helping-one-million-developers-exit-vim/)\n",
    "\n",
    "\n",
    "### Modeling\n",
    "1. [Time Series](https://www.otexts.org/fpp/8/1)\n",
    "2. [Esty - Discovering Unique Interests with Latent Variable Models in Large Scale Social E-commerce](https://mimno.infosci.cornell.edu/info6150/readings/p1640-hu.pdf)\n",
    "3. [Vader](http://comp.social.gatech.edu/papers/icwsm14.vader.hutto.pdf)"
   ]
  }
 ],
 "metadata": {
  "kernelspec": {
   "display_name": "Python 2",
   "language": "python",
   "name": "python2"
  },
  "language_info": {
   "codemirror_mode": {
    "name": "ipython",
    "version": 2
   },
   "file_extension": ".py",
   "mimetype": "text/x-python",
   "name": "python",
   "nbconvert_exporter": "python",
   "pygments_lexer": "ipython2",
   "version": "2.7.6"
  }
 },
 "nbformat": 4,
 "nbformat_minor": 2
}
