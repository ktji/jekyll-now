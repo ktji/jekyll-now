{
 "cells": [
  {
   "cell_type": "markdown",
   "metadata": {
    "collapsed": true
   },
   "source": [
    "## Introduction\n",
    "Poshmark is a social commerce marketplace where people in the United States can buy and sell new or used clothing, shoes, and accessories. Currently, I am an active user on Poshmark selling new fashion jewelry, women accessories and used personal clothing and shoes. Here is the [link](https://poshmark.com/closet/katie_ji) to my PM closet. Feel free to take a look!\n",
    "\n",
    "Due to the nature of a social commerce marketplace, Poshmark requires sellers to interact with other users for exposure, meaning sharing and liking other users listings. I am introducing the following Python tool called Poshmark robot which automatically shares listings from any closet to party or followers.\n",
    "\n",
    "Please note that you may encounter a reCAPTCHA if you keep using this tool for a good amount of time (usually more than an hour). In such situation, you will need to manually check on the reCAPTCHA box before tool starts to work again."
   ]
  },
  {
   "cell_type": "markdown",
   "metadata": {},
   "source": [
    "### Github link\n",
    "Please find the package avaiable [here](https://github.com/ktji/poshmark_sharing-master) on github"
   ]
  }
 ],
 "metadata": {
  "kernelspec": {
   "display_name": "Python 2",
   "language": "python",
   "name": "python2"
  },
  "language_info": {
   "codemirror_mode": {
    "name": "ipython",
    "version": 2
   },
   "file_extension": ".py",
   "mimetype": "text/x-python",
   "name": "python",
   "nbconvert_exporter": "python",
   "pygments_lexer": "ipython2",
   "version": "2.7.6"
  }
 },
 "nbformat": 4,
 "nbformat_minor": 2
}
